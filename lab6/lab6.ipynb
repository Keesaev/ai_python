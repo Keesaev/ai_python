{
 "cells": [
  {
   "cell_type": "code",
   "execution_count": 1,
   "metadata": {},
   "outputs": [
    {
     "name": "stderr",
     "output_type": "stream",
     "text": [
      "2022-12-16 02:03:14.240396: I tensorflow/core/platform/cpu_feature_guard.cc:193] This TensorFlow binary is optimized with oneAPI Deep Neural Network Library (oneDNN) to use the following CPU instructions in performance-critical operations:  AVX2 FMA\n",
      "To enable them in other operations, rebuild TensorFlow with the appropriate compiler flags.\n",
      "2022-12-16 02:03:15.661574: W tensorflow/compiler/xla/stream_executor/platform/default/dso_loader.cc:64] Could not load dynamic library 'libnvinfer.so.7'; dlerror: libnvinfer.so.7: cannot open shared object file: No such file or directory; LD_LIBRARY_PATH: :/home/keesaev/miniconda3/lib/\n",
      "2022-12-16 02:03:15.661628: W tensorflow/compiler/xla/stream_executor/platform/default/dso_loader.cc:64] Could not load dynamic library 'libnvinfer_plugin.so.7'; dlerror: libnvinfer_plugin.so.7: cannot open shared object file: No such file or directory; LD_LIBRARY_PATH: :/home/keesaev/miniconda3/lib/\n",
      "2022-12-16 02:03:15.661633: W tensorflow/compiler/tf2tensorrt/utils/py_utils.cc:38] TF-TRT Warning: Cannot dlopen some TensorRT libraries. If you would like to use Nvidia GPU with TensorRT, please make sure the missing libraries mentioned above are installed properly.\n"
     ]
    }
   ],
   "source": [
    "%matplotlib inline\n",
    "import matplotlib\n",
    "import matplotlib.pyplot as plt\n",
    "import numpy as np\n",
    "from tensorflow.keras.utils import to_categorical\n",
    "from keras import models\n",
    "from keras import layers"
   ]
  },
  {
   "attachments": {},
   "cell_type": "markdown",
   "metadata": {},
   "source": [
    "Загрузим датасет imdb и совместим данные для обучения с данными для валидации:"
   ]
  },
  {
   "cell_type": "code",
   "execution_count": 2,
   "metadata": {},
   "outputs": [],
   "source": [
    "from keras.datasets import imdb\n",
    "(training_data, training_targets), (testing_data,testing_targets) = imdb.load_data(num_words=10000, path=\"imdb1.npz\")\n",
    "data = np.concatenate((training_data, testing_data), axis=0)\n",
    "targets = np.concatenate((training_targets, testing_targets),\n",
    "axis=0)"
   ]
  },
  {
   "attachments": {},
   "cell_type": "markdown",
   "metadata": {},
   "source": [
    "Отобразим:\n",
    "- Категории\n",
    "- Число уникальных слов\n",
    "- Среднюю длину отзыва\n",
    "- Среднее отклонение длины отзыва"
   ]
  },
  {
   "cell_type": "code",
   "execution_count": 3,
   "metadata": {},
   "outputs": [
    {
     "name": "stdout",
     "output_type": "stream",
     "text": [
      "Categories: [0 1]\n",
      "Number of unique words: 9998\n",
      "Average Review length: 234.75892\n",
      "Standard Deviation: 173\n"
     ]
    }
   ],
   "source": [
    "print(\"Categories:\", np.unique(targets))\n",
    "print(\"Number of unique words:\",\n",
    "len(np.unique(np.hstack(data))))\n",
    "length = [len(i) for i in data]\n",
    "print(\"Average Review length:\", np.mean(length))\n",
    "print(\"Standard Deviation:\", round(np.std(length)))"
   ]
  },
  {
   "attachments": {},
   "cell_type": "markdown",
   "metadata": {},
   "source": [
    "Отобразим первый отзыв:"
   ]
  },
  {
   "cell_type": "code",
   "execution_count": 4,
   "metadata": {},
   "outputs": [
    {
     "name": "stdout",
     "output_type": "stream",
     "text": [
      "Label: 1\n",
      "[1, 14, 22, 16, 43, 530, 973, 1622, 1385, 65, 458, 4468, 66, 3941, 4, 173, 36, 256, 5, 25, 100, 43, 838, 112, 50, 670, 2, 9, 35, 480, 284, 5, 150, 4, 172, 112, 167, 2, 336, 385, 39, 4, 172, 4536, 1111, 17, 546, 38, 13, 447, 4, 192, 50, 16, 6, 147, 2025, 19, 14, 22, 4, 1920, 4613, 469, 4, 22, 71, 87, 12, 16, 43, 530, 38, 76, 15, 13, 1247, 4, 22, 17, 515, 17, 12, 16, 626, 18, 2, 5, 62, 386, 12, 8, 316, 8, 106, 5, 4, 2223, 5244, 16, 480, 66, 3785, 33, 4, 130, 12, 16, 38, 619, 5, 25, 124, 51, 36, 135, 48, 25, 1415, 33, 6, 22, 12, 215, 28, 77, 52, 5, 14, 407, 16, 82, 2, 8, 4, 107, 117, 5952, 15, 256, 4, 2, 7, 3766, 5, 723, 36, 71, 43, 530, 476, 26, 400, 317, 46, 7, 4, 2, 1029, 13, 104, 88, 4, 381, 15, 297, 98, 32, 2071, 56, 26, 141, 6, 194, 7486, 18, 4, 226, 22, 21, 134, 476, 26, 480, 5, 144, 30, 5535, 18, 51, 36, 28, 224, 92, 25, 104, 4, 226, 65, 16, 38, 1334, 88, 12, 16, 283, 5, 16, 4472, 113, 103, 32, 15, 16, 5345, 19, 178, 32]\n"
     ]
    }
   ],
   "source": [
    "print(\"Label:\", targets[0])\n",
    "print(data[0])"
   ]
  },
  {
   "attachments": {},
   "cell_type": "markdown",
   "metadata": {},
   "source": [
    "Декодируем слова с помощью словаря ```imdb.get_word_index```:"
   ]
  },
  {
   "cell_type": "code",
   "execution_count": 5,
   "metadata": {},
   "outputs": [
    {
     "name": "stdout",
     "output_type": "stream",
     "text": [
      "# this film was just brilliant casting location scenery story direction everyone's really suited the part they played and you could just imagine being there robert # is an amazing actor and now the same being director # father came from the same scottish island as myself so i loved the fact there was a real connection with this film the witty remarks throughout the film were great it was just brilliant so much that i bought the film as soon as it was released for # and would recommend it to everyone to watch and the fly fishing was amazing really cried at the end it was so sad and you know what they say if you cry at a film it must have been good and this definitely was also # to the two little boy's that played the # of norman and paul they were just brilliant children are often left out of the # list i think because the stars that play them all grown up are such a big profile for the whole film but these children are amazing and should be praised for what they have done don't you think the whole story was so lovely because it was true and was someone's life after all that was shared with us all\n"
     ]
    }
   ],
   "source": [
    "index = imdb.get_word_index()\n",
    "reverse_index = dict([(value, key) for (key, value) in index.items()])\n",
    "decoded = \" \".join( [reverse_index.get(i - 3, \"#\") for i in data[0]] )\n",
    "print(decoded)"
   ]
  },
  {
   "attachments": {},
   "cell_type": "markdown",
   "metadata": {},
   "source": [
    "Векторизируем каждый обзор и заполним нулями недостающие элементы до 10000 и разделим данные на датасет обучения (10к отзывов) и для тестирования (10к отзывов):"
   ]
  },
  {
   "cell_type": "code",
   "execution_count": 6,
   "metadata": {},
   "outputs": [],
   "source": [
    "num_of_words = 10000\n",
    "\n",
    "def vectorize(sequences, dimension = num_of_words):\n",
    "  results = np.zeros((len(sequences), dimension))\n",
    "  for i, sequence in enumerate(sequences):\n",
    "    results[i, sequence] = 1\n",
    "  return results\n",
    "data_vectorized = vectorize(data)\n",
    "targets = np.array(targets).astype(\"float32\")\n",
    "\n",
    "test_x = data_vectorized[:10000]\n",
    "test_y = targets[:10000]\n",
    "train_x = data_vectorized[10000:]\n",
    "train_y = targets[10000:]"
   ]
  },
  {
   "attachments": {},
   "cell_type": "markdown",
   "metadata": {},
   "source": [
    "Обучим стандартную сеть и прогоним через неё тестовые данные:"
   ]
  },
  {
   "cell_type": "code",
   "execution_count": 7,
   "metadata": {},
   "outputs": [
    {
     "name": "stdout",
     "output_type": "stream",
     "text": [
      "Model: \"sequential\"\n",
      "_________________________________________________________________\n",
      " Layer (type)                Output Shape              Param #   \n",
      "=================================================================\n",
      " dense (Dense)               (None, 50)                500050    \n",
      "                                                                 \n",
      " dropout (Dropout)           (None, 50)                0         \n",
      "                                                                 \n",
      " dense_1 (Dense)             (None, 50)                2550      \n",
      "                                                                 \n",
      " dropout_1 (Dropout)         (None, 50)                0         \n",
      "                                                                 \n",
      " dense_2 (Dense)             (None, 50)                2550      \n",
      "                                                                 \n",
      " dense_3 (Dense)             (None, 1)                 51        \n",
      "                                                                 \n",
      "=================================================================\n",
      "Total params: 505,201\n",
      "Trainable params: 505,201\n",
      "Non-trainable params: 0\n",
      "_________________________________________________________________\n"
     ]
    },
    {
     "name": "stderr",
     "output_type": "stream",
     "text": [
      "2022-12-16 02:03:22.174844: E tensorflow/compiler/xla/stream_executor/cuda/cuda_driver.cc:267] failed call to cuInit: CUDA_ERROR_COMPAT_NOT_SUPPORTED_ON_DEVICE: forward compatibility was attempted on non supported HW\n",
      "2022-12-16 02:03:22.174889: I tensorflow/compiler/xla/stream_executor/cuda/cuda_diagnostics.cc:169] retrieving CUDA diagnostic information for host: keesaev-asus-ubuntu\n",
      "2022-12-16 02:03:22.174895: I tensorflow/compiler/xla/stream_executor/cuda/cuda_diagnostics.cc:176] hostname: keesaev-asus-ubuntu\n",
      "2022-12-16 02:03:22.175029: I tensorflow/compiler/xla/stream_executor/cuda/cuda_diagnostics.cc:200] libcuda reported version is: 510.108.3\n",
      "2022-12-16 02:03:22.175047: I tensorflow/compiler/xla/stream_executor/cuda/cuda_diagnostics.cc:204] kernel reported version is: 470.161.3\n",
      "2022-12-16 02:03:22.175051: E tensorflow/compiler/xla/stream_executor/cuda/cuda_diagnostics.cc:313] kernel version 470.161.3 does not match DSO version 510.108.3 -- cannot find working devices in this configuration\n",
      "2022-12-16 02:03:22.175394: I tensorflow/core/platform/cpu_feature_guard.cc:193] This TensorFlow binary is optimized with oneAPI Deep Neural Network Library (oneDNN) to use the following CPU instructions in performance-critical operations:  AVX2 FMA\n",
      "To enable them in other operations, rebuild TensorFlow with the appropriate compiler flags.\n"
     ]
    },
    {
     "name": "stdout",
     "output_type": "stream",
     "text": [
      "Epoch 1/2\n"
     ]
    },
    {
     "name": "stderr",
     "output_type": "stream",
     "text": [
      "2022-12-16 02:03:22.774319: W tensorflow/tsl/framework/cpu_allocator_impl.cc:82] Allocation of 1600000000 exceeds 10% of free system memory.\n"
     ]
    },
    {
     "name": "stdout",
     "output_type": "stream",
     "text": [
      "80/80 [==============================] - 2s 18ms/step - loss: 0.4000 - accuracy: 0.8231 - val_loss: 0.2597 - val_accuracy: 0.8959\n",
      "Epoch 2/2\n",
      "80/80 [==============================] - 1s 11ms/step - loss: 0.2128 - accuracy: 0.9189 - val_loss: 0.2629 - val_accuracy: 0.8937\n",
      "[model1] val_acc:  0.8948000073432922 val_loss:  0.26134058833122253\n"
     ]
    }
   ],
   "source": [
    "from tensorflow.keras.models import Sequential\n",
    "\n",
    "model1 = Sequential([\n",
    "    layers.Dense(50, activation = \"relu\",input_shape=(num_of_words, )),\n",
    "    layers.Dropout(0.3, noise_shape=None, seed=None),\n",
    "    layers.Dense(50, activation = \"relu\"),\n",
    "    layers.Dropout(0.2, noise_shape=None, seed=None),\n",
    "    layers.Dense(50, activation = \"relu\"),\n",
    "    layers.Dense(1, activation =\"sigmoid\")\n",
    "])\n",
    "model1.summary()\n",
    "\n",
    "model1.compile(\n",
    "    optimizer = \"adam\",\n",
    "    loss = \"binary_crossentropy\",\n",
    "    metrics = [\"accuracy\"]\n",
    ")\n",
    "\n",
    "history1 = model1.fit(\n",
    "    train_x, train_y,\n",
    "    epochs= 2,\n",
    "    batch_size = 500,\n",
    "    validation_data = (test_x, test_y)\n",
    ")\n",
    "\n",
    "print('[model1] val_acc: ', np.mean(history1.history['val_accuracy']), \n",
    "    'val_loss: ', np.mean(history1.history['val_loss']))"
   ]
  },
  {
   "attachments": {},
   "cell_type": "markdown",
   "metadata": {},
   "source": [
    "Теперь запросим датасет с числом уникальных слов уменьшенным в 2 раза (5000 слов):"
   ]
  },
  {
   "cell_type": "code",
   "execution_count": 8,
   "metadata": {},
   "outputs": [],
   "source": [
    "num_of_words = 5000\n",
    "\n",
    "from keras.datasets import imdb\n",
    "(training_data, training_targets), (testing_data, testing_targets) = imdb.load_data(num_words=num_of_words, path=\"imdb2.npz\")\n",
    "data = np.concatenate((training_data, testing_data), axis=0)\n",
    "targets = np.concatenate((training_targets, testing_targets),axis=0)\n",
    "\n",
    "data_vectorized = vectorize(data, dimension=num_of_words)\n",
    "targets = np.array(targets).astype(\"float32\")\n",
    "\n",
    "test_x = data_vectorized[:10000]\n",
    "test_y = targets[:10000]\n",
    "train_x = data_vectorized[10000:]\n",
    "train_y = targets[10000:]"
   ]
  },
  {
   "attachments": {},
   "cell_type": "markdown",
   "metadata": {},
   "source": [
    "Обучим ту же сеть с новым числом слов:"
   ]
  },
  {
   "cell_type": "code",
   "execution_count": 9,
   "metadata": {},
   "outputs": [
    {
     "name": "stdout",
     "output_type": "stream",
     "text": [
      "Epoch 1/2\n"
     ]
    },
    {
     "name": "stderr",
     "output_type": "stream",
     "text": [
      "2022-12-16 02:03:31.896738: W tensorflow/tsl/framework/cpu_allocator_impl.cc:82] Allocation of 800000000 exceeds 10% of free system memory.\n"
     ]
    },
    {
     "name": "stdout",
     "output_type": "stream",
     "text": [
      "80/80 [==============================] - 1s 11ms/step - loss: 0.4271 - accuracy: 0.8021 - val_loss: 0.2731 - val_accuracy: 0.8913\n",
      "Epoch 2/2\n",
      "80/80 [==============================] - 1s 7ms/step - loss: 0.2445 - accuracy: 0.9035 - val_loss: 0.2662 - val_accuracy: 0.8907\n",
      "[model2] val_acc:  0.8910000026226044 val_loss:  0.2696753442287445\n"
     ]
    }
   ],
   "source": [
    "from tensorflow.keras.models import Sequential\n",
    "\n",
    "model2 = Sequential([\n",
    "    layers.Dense(50, activation = \"relu\",input_shape=(num_of_words, )),\n",
    "    layers.Dropout(0.3, noise_shape=None, seed=None),\n",
    "    layers.Dense(50, activation = \"relu\"),\n",
    "    layers.Dropout(0.2, noise_shape=None, seed=None),\n",
    "    layers.Dense(50, activation = \"relu\"),\n",
    "    layers.Dense(1, activation =\"sigmoid\")\n",
    "])\n",
    "\n",
    "model2.compile(\n",
    "    optimizer = \"adam\",\n",
    "    loss = \"binary_crossentropy\",\n",
    "    metrics = [\"accuracy\"]\n",
    ")\n",
    "\n",
    "history2 = model2.fit(\n",
    "    train_x, train_y,\n",
    "    epochs= 2,\n",
    "    batch_size = 500,\n",
    "    validation_data = (test_x, test_y)\n",
    ")\n",
    "\n",
    "print('[model2] val_acc: ', np.mean(history2.history['val_accuracy']), \n",
    "    'val_loss: ', np.mean(history2.history['val_loss']))"
   ]
  },
  {
   "attachments": {},
   "cell_type": "markdown",
   "metadata": {},
   "source": [
    "Можно заметить что точность слегка упала\n",
    "\n",
    "Теперь запросим датасет с числом уникальных слов = 15000:"
   ]
  },
  {
   "cell_type": "code",
   "execution_count": 10,
   "metadata": {},
   "outputs": [],
   "source": [
    "num_of_words = 15000\n",
    "\n",
    "from keras.datasets import imdb\n",
    "(training_data, training_targets), (testing_data, testing_targets) = imdb.load_data(num_words=num_of_words, path=\"imdb3.npz\")\n",
    "data = np.concatenate((training_data, testing_data), axis=0)\n",
    "targets = np.concatenate((training_targets, testing_targets),axis=0)\n",
    "\n",
    "data_vectorized = vectorize(data, dimension=num_of_words)\n",
    "targets = np.array(targets).astype(\"float32\")\n",
    "\n",
    "test_x = data_vectorized[:10000]\n",
    "test_y = targets[:10000]\n",
    "train_x = data_vectorized[10000:]\n",
    "train_y = targets[10000:]"
   ]
  },
  {
   "cell_type": "code",
   "execution_count": 11,
   "metadata": {},
   "outputs": [
    {
     "name": "stdout",
     "output_type": "stream",
     "text": [
      "Epoch 1/2\n"
     ]
    },
    {
     "name": "stderr",
     "output_type": "stream",
     "text": [
      "2022-12-16 02:03:39.893526: W tensorflow/tsl/framework/cpu_allocator_impl.cc:82] Allocation of 2400000000 exceeds 10% of free system memory.\n"
     ]
    },
    {
     "name": "stdout",
     "output_type": "stream",
     "text": [
      "80/80 [==============================] - 3s 25ms/step - loss: 0.3916 - accuracy: 0.8292 - val_loss: 0.2624 - val_accuracy: 0.8921\n",
      "Epoch 2/2\n",
      "80/80 [==============================] - 1s 15ms/step - loss: 0.1970 - accuracy: 0.9262 - val_loss: 0.2631 - val_accuracy: 0.8963\n",
      "[model3] val_acc:  0.8941999971866608 val_loss:  0.262739360332489\n"
     ]
    }
   ],
   "source": [
    "from tensorflow.keras.models import Sequential\n",
    "\n",
    "model3 = Sequential([\n",
    "    layers.Dense(50, activation = \"relu\",input_shape=(num_of_words, )),\n",
    "    layers.Dropout(0.3, noise_shape=None, seed=None),\n",
    "    layers.Dense(50, activation = \"relu\"),\n",
    "    layers.Dropout(0.2, noise_shape=None, seed=None),\n",
    "    layers.Dense(50, activation = \"relu\"),\n",
    "    layers.Dense(1, activation =\"sigmoid\")\n",
    "])\n",
    "\n",
    "model3.compile(\n",
    "    optimizer = \"adam\",\n",
    "    loss = \"binary_crossentropy\",\n",
    "    metrics = [\"accuracy\"]\n",
    ")\n",
    "\n",
    "history3 = model3.fit(\n",
    "    train_x, train_y,\n",
    "    epochs= 2,\n",
    "    batch_size = 500,\n",
    "    validation_data = (test_x, test_y)\n",
    ")\n",
    "\n",
    "print('[model3] val_acc: ', np.mean(history3.history['val_accuracy']), \n",
    "    'val_loss: ', np.mean(history3.history['val_loss']))"
   ]
  },
  {
   "attachments": {},
   "cell_type": "markdown",
   "metadata": {},
   "source": [
    "Можно заметить, что точность стала слегка лучше\n",
    "\n",
    "Добавим метод для преобразования пользовательского текста к данным совместимым с tf и предсказанию на трёх моделях:"
   ]
  },
  {
   "cell_type": "code",
   "execution_count": 38,
   "metadata": {},
   "outputs": [],
   "source": [
    "from tensorflow import keras \n",
    "\n",
    "index = imdb.get_word_index()\n",
    "\n",
    "def encode(words):\n",
    "  arr = []\n",
    "  for word in words:\n",
    "    arr.append(index.get(word) + 3)\n",
    "  res = keras.preprocessing.sequence.pad_sequences([arr], value=0, padding=\"post\")\n",
    "  return res\n",
    "\n",
    "def predict_custom(sentence):\n",
    "  word_list = sentence.split()\n",
    "  enc = encode(word_list)\n",
    "  vec = vectorize(enc, 10000)\n",
    "  print(sentence)\n",
    "  print('[model1]: ',model1.predict(vec))\n",
    "  vec = vectorize(enc, 5000)\n",
    "  print('[model2]: ',model2.predict(vec))\n",
    "  vec = vectorize(enc, 15000)\n",
    "  print('[model3]: ',model3.predict(vec))"
   ]
  },
  {
   "attachments": {},
   "cell_type": "markdown",
   "metadata": {},
   "source": [
    "Оценим предсказания относительно двух групп текста: содержащих позитивные слова и негативные:"
   ]
  },
  {
   "cell_type": "code",
   "execution_count": 40,
   "metadata": {},
   "outputs": [
    {
     "name": "stdout",
     "output_type": "stream",
     "text": [
      "brilliant good best awesome cool\n",
      "1/1 [==============================] - 0s 22ms/step\n",
      "[model1]:  [[0.91431236]]\n",
      "1/1 [==============================] - 0s 18ms/step\n",
      "[model2]:  [[0.9200928]]\n",
      "1/1 [==============================] - 0s 16ms/step\n",
      "[model3]:  [[0.88805294]]\n",
      "bad awful worst\n",
      "1/1 [==============================] - 0s 20ms/step\n",
      "[model1]:  [[0.05746444]]\n",
      "1/1 [==============================] - 0s 17ms/step\n",
      "[model2]:  [[0.03391721]]\n",
      "1/1 [==============================] - 0s 18ms/step\n",
      "[model3]:  [[0.06741618]]\n"
     ]
    }
   ],
   "source": [
    "predict_custom(\"brilliant good best awesome cool\")\n",
    "predict_custom(\"bad awful worst\")"
   ]
  },
  {
   "attachments": {},
   "cell_type": "markdown",
   "metadata": {},
   "source": [
    "Как видно, первый датасет был классифицирован как позитивный, а второй - как негативный"
   ]
  }
 ],
 "metadata": {
  "kernelspec": {
   "display_name": "venv",
   "language": "python",
   "name": "python3"
  },
  "language_info": {
   "codemirror_mode": {
    "name": "ipython",
    "version": 3
   },
   "file_extension": ".py",
   "mimetype": "text/x-python",
   "name": "python",
   "nbconvert_exporter": "python",
   "pygments_lexer": "ipython3",
   "version": "3.10.6"
  },
  "orig_nbformat": 4,
  "vscode": {
   "interpreter": {
    "hash": "c5fcab168657a613eb4a3af5a6ba1dc960dbaab7b10a3c0763673d73c7965562"
   }
  }
 },
 "nbformat": 4,
 "nbformat_minor": 2
}
